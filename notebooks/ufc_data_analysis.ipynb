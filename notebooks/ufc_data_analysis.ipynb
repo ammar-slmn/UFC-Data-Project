{
 "cells": [
  {
   "cell_type": "code",
   "execution_count": 4,
   "id": "a44ba841-0df5-42de-bce3-5c01e6ace523",
   "metadata": {},
   "outputs": [],
   "source": [
    "import boto3\n",
    "import pandas as pd\n",
    "from io import StringIO\n",
    "from dotenv import load_dotenv\n",
    "import os"
   ]
  },
  {
   "cell_type": "code",
   "execution_count": 5,
   "id": "f672b574",
   "metadata": {},
   "outputs": [
    {
     "data": {
      "text/plain": [
       "True"
      ]
     },
     "execution_count": 5,
     "metadata": {},
     "output_type": "execute_result"
    }
   ],
   "source": [
    "load_dotenv()"
   ]
  },
  {
   "cell_type": "code",
   "execution_count": 6,
   "id": "0edb9497-bb7d-4f9d-b5fe-0ed427db042d",
   "metadata": {},
   "outputs": [],
   "source": [
    "AWS_ACCESS_KEY=os.getenv('AWS_ACCESS_KEY_ID')\n",
    "AWS_SECRET_ACCESS_KEY=os.getenv('AWS_SECRET_ACCESS_KEY')\n",
    "\n",
    "s3_client = boto3.client('s3', aws_access_key_id=AWS_ACCESS_KEY,\n",
    "                          aws_secret_access_key=AWS_SECRET_ACCESS_KEY)\n",
    "\n",
    "BUCKET_NAME = 'ufcprojectbucket'\n",
    "FILE_NAME = 'ufc_data_prepared.csv'\n",
    "\n",
    "response = s3_client.get_object(Bucket=BUCKET_NAME, Key=FILE_NAME)\n",
    "csv_content = response['Body'].read().decode('utf-8')\n",
    "df = pd.read_csv(StringIO(csv_content))"
   ]
  },
  {
   "cell_type": "code",
   "execution_count": null,
   "id": "8d62d3be-4b15-4867-b2e4-5a91a76b8031",
   "metadata": {},
   "outputs": [],
   "source": []
  },
  {
   "cell_type": "code",
   "execution_count": null,
   "id": "6f77d9fd-ef21-4e0c-bbbf-9d27218758f3",
   "metadata": {},
   "outputs": [],
   "source": []
  }
 ],
 "metadata": {
  "kernelspec": {
   "display_name": "Python 3 (ipykernel)",
   "language": "python",
   "name": "python3"
  },
  "language_info": {
   "codemirror_mode": {
    "name": "ipython",
    "version": 3
   },
   "file_extension": ".py",
   "mimetype": "text/x-python",
   "name": "python",
   "nbconvert_exporter": "python",
   "pygments_lexer": "ipython3",
   "version": "3.10.4"
  }
 },
 "nbformat": 4,
 "nbformat_minor": 5
}
